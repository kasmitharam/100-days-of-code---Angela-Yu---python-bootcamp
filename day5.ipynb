{
 "cells": [
  {
   "cell_type": "code",
   "execution_count": 2,
   "id": "c8d187b8",
   "metadata": {},
   "outputs": [
    {
     "name": "stdout",
     "output_type": "stream",
     "text": [
      "apple\n",
      "apple Pie\n",
      "['apple', 'mango', 'pineapple']\n",
      "mango\n",
      "mango Pie\n",
      "['apple', 'mango', 'pineapple']\n",
      "pineapple\n",
      "pineapple Pie\n",
      "['apple', 'mango', 'pineapple']\n"
     ]
    }
   ],
   "source": [
    "#day 5\n",
    "\n",
    "# for loop\n",
    "fruits = ['apple','mango','pineapple']\n",
    "\n",
    "for fruit in fruits:\n",
    "    print(fruit)\n",
    "    print(fruit + \" Pie\")\n",
    "    print(fruits)\n"
   ]
  },
  {
   "cell_type": "code",
   "execution_count": 3,
   "id": "719423f9",
   "metadata": {},
   "outputs": [
    {
     "name": "stdout",
     "output_type": "stream",
     "text": [
      "Input a list of student heights 56 67\n",
      "62\n"
     ]
    }
   ],
   "source": [
    "#exercise 1\n",
    "\"\"\"Instructions\n",
    "You are going to write a program that calculates the average student height from a List of heights.\n",
    "\n",
    "e.g. student_heights = [180, 124, 165, 173, 189, 169, 146]\n",
    "\n",
    "The average height can be calculated by adding all the heights together and dividing by the total number of heights.\n",
    "\n",
    "e.g.\n",
    "\n",
    "180 + 124 + 165 + 173 + 189 + 169 + 146 = 1146\n",
    "\n",
    "There are a total of 7 heights in student_heights\n",
    "\n",
    "1146 ÷ 7 = 163.71428571428572\n",
    "\n",
    "Average height rounded to the nearest whole number = 164\n",
    "\n",
    "Important You should not use the sum() or len() functions in your answer. You should try to replicate their functionality using what you have learnt about for loops.\"\"\"\n",
    "\n",
    "# 🚨 Don't change the code below 👇\n",
    "student_heights = input(\"Input a list of student heights \").split()\n",
    "average_height = 0\n",
    "list_len = 0\n",
    "for i in student_heights:\n",
    "    average_height += int(i)\n",
    "    list_len += 1\n",
    "average_height = round(average_height/ list_len)\n",
    "print(average_height)\n"
   ]
  },
  {
   "cell_type": "code",
   "execution_count": 4,
   "id": "240fcd4f",
   "metadata": {},
   "outputs": [
    {
     "name": "stdout",
     "output_type": "stream",
     "text": [
      "Input a list of student scores 7 878 889\n",
      "[7, 878, 889]\n",
      "The highest score in the class is: 889\n"
     ]
    }
   ],
   "source": [
    "#exercise 2\n",
    "\"\"\"\n",
    "Instructions\n",
    "You are going to write a program that calculates the highest score from a List of scores.\n",
    "\n",
    "e.g. student_scores = [78, 65, 89, 86, 55, 91, 64, 89]\n",
    "\n",
    "Important you are not allowed to use the max or min functions. The output words must match the example. i.e\"\"\"\n",
    "\n",
    "\n",
    "\n",
    "# 🚨 Don't change the code below 👇\n",
    "student_scores = input(\"Input a list of student scores \").split()\n",
    "for n in range(0, len(student_scores)):\n",
    "  student_scores[n] = int(student_scores[n])\n",
    "print(student_scores)\n",
    "# 🚨 Don't change the code above 👆\n",
    "highesh_score = int(student_scores[0])\n",
    "\n",
    "#Write your code below this row 👇\n",
    "\n",
    "for i in student_scores:\n",
    "    if int(i) > highesh_score:\n",
    "        highesh_score = int(i)\n",
    "print(f\"The highest score in the class is: {highesh_score}\")\n"
   ]
  },
  {
   "cell_type": "code",
   "execution_count": 5,
   "id": "6266df20",
   "metadata": {},
   "outputs": [
    {
     "name": "stdout",
     "output_type": "stream",
     "text": [
      "1\n",
      "2\n",
      "3\n",
      "4\n",
      "5\n",
      "6\n",
      "7\n",
      "8\n",
      "9\n"
     ]
    }
   ],
   "source": [
    "\n",
    "#range function\n",
    "for number in range(1,10):\n",
    "    print(number)"
   ]
  },
  {
   "cell_type": "code",
   "execution_count": 6,
   "id": "4dbb7ae2",
   "metadata": {},
   "outputs": [
    {
     "name": "stdout",
     "output_type": "stream",
     "text": [
      "2550\n"
     ]
    }
   ],
   "source": [
    "#exercise 3\n",
    "\"\"\"Instructions\n",
    "You are going to write a program that calculates the sum of all the even numbers from 1 to 100. Thus, the first even number would be 2 and the last one is 100:\n",
    "\n",
    "i.e. 2 + 4 + 6 + 8 +10 ... + 98 + 100\n",
    "\n",
    "Important, there should only be 1 print statement in your console output. It should just print the final total and not every step of the calculation.\n",
    "\n",
    "Hint\n",
    "There are quite a few ways of solving this problem, but you will need to use the range() function in any of the solutions.\"\"\"\n",
    "\n",
    "\n",
    "#Write your code below this row 👇\n",
    "sum_even = 0\n",
    "for i in range(2,101):\n",
    "    if i%2 == 0:\n",
    "        sum_even += i\n",
    "print(sum_even)"
   ]
  },
  {
   "cell_type": "code",
   "execution_count": 11,
   "id": "0907fd98",
   "metadata": {},
   "outputs": [
    {
     "name": "stdout",
     "output_type": "stream",
     "text": [
      "1\n",
      "2\n",
      "Fizz\n",
      "4\n",
      "Buzz\n",
      "Fizz\n",
      "7\n",
      "8\n",
      "Fizz\n",
      "Buzz\n",
      "11\n",
      "Fizz\n",
      "13\n",
      "14\n",
      "FizzBuzz\n",
      "16\n",
      "17\n",
      "Fizz\n",
      "19\n",
      "Buzz\n",
      "Fizz\n",
      "22\n",
      "23\n",
      "Fizz\n",
      "Buzz\n",
      "26\n",
      "Fizz\n",
      "28\n",
      "29\n",
      "FizzBuzz\n",
      "31\n",
      "32\n",
      "Fizz\n",
      "34\n",
      "Buzz\n",
      "Fizz\n",
      "37\n",
      "38\n",
      "Fizz\n",
      "Buzz\n",
      "41\n",
      "Fizz\n",
      "43\n",
      "44\n",
      "FizzBuzz\n",
      "46\n",
      "47\n",
      "Fizz\n",
      "49\n",
      "Buzz\n",
      "Fizz\n",
      "52\n",
      "53\n",
      "Fizz\n",
      "Buzz\n",
      "56\n",
      "Fizz\n",
      "58\n",
      "59\n",
      "FizzBuzz\n",
      "61\n",
      "62\n",
      "Fizz\n",
      "64\n",
      "Buzz\n",
      "Fizz\n",
      "67\n",
      "68\n",
      "Fizz\n",
      "Buzz\n",
      "71\n",
      "Fizz\n",
      "73\n",
      "74\n",
      "FizzBuzz\n",
      "76\n",
      "77\n",
      "Fizz\n",
      "79\n",
      "Buzz\n",
      "Fizz\n",
      "82\n",
      "83\n",
      "Fizz\n",
      "Buzz\n",
      "86\n",
      "Fizz\n",
      "88\n",
      "89\n",
      "FizzBuzz\n",
      "91\n",
      "92\n",
      "Fizz\n",
      "94\n",
      "Buzz\n",
      "Fizz\n",
      "97\n",
      "98\n",
      "Fizz\n",
      "Buzz\n"
     ]
    }
   ],
   "source": [
    "#exercise 4\n",
    "\"\"\"Instructions\n",
    "You are going to write a program that automatically prints the solution to the FizzBuzz game.\n",
    "\n",
    "Your program should print each number from 1 to 100 in turn.\n",
    "\n",
    "When the number is divisible by 3 then instead of printing the number it should print 'Fizz'.\n",
    "\n",
    "When the number is divisible by 5, then instead of printing the number it should print 'Buzz'\n",
    "`And if the number is divisible by both 3 and 5 e.g. 15 then instead of the number it should print 'FizzBuzz'\"\"\"\n",
    "\n",
    "\n",
    "#Write your code below this row 👇\n",
    "for i in range(1,101):\n",
    "    if (i % 3 == 0) and (i % 5 == 0):\n",
    "        print(\"FizzBuzz\")\n",
    "    elif (i % 3 == 0):\n",
    "        print(\"Fizz\")\n",
    "    elif (i % 5 == 0):\n",
    "        print(\"Buzz\")\n",
    "    else:\n",
    "        print(i)\n"
   ]
  },
  {
   "cell_type": "code",
   "execution_count": 12,
   "id": "60fb0508",
   "metadata": {},
   "outputs": [],
   "source": [
    "import random\n"
   ]
  },
  {
   "cell_type": "code",
   "execution_count": 13,
   "id": "b4bfc6cf",
   "metadata": {},
   "outputs": [
    {
     "ename": "TypeError",
     "evalue": "choice() missing 1 required positional argument: 'seq'",
     "output_type": "error",
     "traceback": [
      "\u001b[1;31m---------------------------------------------------------------------------\u001b[0m",
      "\u001b[1;31mTypeError\u001b[0m                                 Traceback (most recent call last)",
      "\u001b[1;32m~\\AppData\\Local\\Temp/ipykernel_17440/1802519305.py\u001b[0m in \u001b[0;36m<module>\u001b[1;34m\u001b[0m\n\u001b[1;32m----> 1\u001b[1;33m \u001b[0mrandom\u001b[0m\u001b[1;33m.\u001b[0m\u001b[0mchoice\u001b[0m\u001b[1;33m(\u001b[0m\u001b[1;33m)\u001b[0m\u001b[1;33m\u001b[0m\u001b[1;33m\u001b[0m\u001b[0m\n\u001b[0m",
      "\u001b[1;31mTypeError\u001b[0m: choice() missing 1 required positional argument: 'seq'"
     ]
    }
   ],
   "source": [
    "random.choice()"
   ]
  },
  {
   "cell_type": "code",
   "execution_count": null,
   "id": "cfdf0692",
   "metadata": {},
   "outputs": [],
   "source": []
  }
 ],
 "metadata": {
  "kernelspec": {
   "display_name": "Python 3 (ipykernel)",
   "language": "python",
   "name": "python3"
  },
  "language_info": {
   "codemirror_mode": {
    "name": "ipython",
    "version": 3
   },
   "file_extension": ".py",
   "mimetype": "text/x-python",
   "name": "python",
   "nbconvert_exporter": "python",
   "pygments_lexer": "ipython3",
   "version": "3.9.7"
  }
 },
 "nbformat": 4,
 "nbformat_minor": 5
}
