{
 "cells": [
  {
   "cell_type": "code",
   "execution_count": 6,
   "id": "fda74602",
   "metadata": {},
   "outputs": [
    {
     "name": "stdout",
     "output_type": "stream",
     "text": [
      "9\n",
      "0.1469504365312706\n",
      "Your love score is 79\n"
     ]
    }
   ],
   "source": [
    "# Day 4 - randomisation\n",
    "\n",
    "\n",
    "import random\n",
    "random_integer = random.randint(1,10)\n",
    "print(random_integer)\n",
    "\n",
    "#module : split the code into different modules where each module has different funtionality\n",
    "\n",
    "random_float = random.random() #for float\n",
    "print(random_float)\n",
    "\n",
    "#random numbers between 0 - 5\n",
    "random_5 = random_float * 5\n",
    "\n",
    "love_score = random.randint(1,100)\n",
    "print(f\"Your love score is {love_score}\")\n",
    "\n"
   ]
  },
  {
   "cell_type": "code",
   "execution_count": 7,
   "id": "950640cb",
   "metadata": {},
   "outputs": [
    {
     "name": "stdout",
     "output_type": "stream",
     "text": [
      "Create a seed number: 98989\n",
      "Tails\n"
     ]
    }
   ],
   "source": [
    "#exercise 1\n",
    "\"\"\"Instructions\n",
    "You are going to write a virtual coin toss program. It will randomly tell the user \"Heads\" or \"Tails\".\n",
    "\n",
    "Important, the first letter should be capitalised and spelt exactly like in the example e.g. Heads, not heads.\n",
    "\n",
    "When you run the code, just use a random number as the seed. e.g. 67346 It doesn't matter what you chose, it's only for our testing code to check your work.\n",
    "\n",
    "There are many ways of doing this. But to practice what we learnt in the last lesson, you should generate a random number, either 0 or 1. Then use that number to print out Heads or Tails.\n",
    "\n",
    "e.g. 1 means Heads 0 means Tails\n",
    "\n",
    "\"\"\"\n",
    "\n",
    "#Remember to use the random module\n",
    "#Hint: Remember to import the random module here at the top of the file. 🎲\n",
    "\t \n",
    "# 🚨 Don't change the code below 👇\n",
    "import random\n",
    "test_seed = int(input(\"Create a seed number: \"))\n",
    "random.seed(test_seed)\n",
    " # 🚨 Don't change the code above 👆 It's only for testing your code.\n",
    "\t \n",
    "#Write the rest of your code below this line 👇\n",
    "result = random.randint(0,1)\n",
    "if result == 1:\n",
    "    print(\"Heads\")\n",
    "else:\n",
    "    print(\"Tails\")\n",
    "\n",
    "\n"
   ]
  },
  {
   "cell_type": "code",
   "execution_count": 14,
   "id": "3ee822a4",
   "metadata": {},
   "outputs": [
    {
     "name": "stdout",
     "output_type": "stream",
     "text": [
      "Delaware\n",
      "Arizona\n",
      "['Delaware', 'pencilvania', 'Arizona', 'Chicago', 'NewYork', 'Los Angeles']\n"
     ]
    }
   ],
   "source": [
    "#Lists\n",
    "#data structure\n",
    "\n",
    "states_of_america = [\"Delaware\",\"Pennsylvania\",\"Arizona\"]\n",
    "print(states_of_america[0])\n",
    "print(states_of_america[-1])\n",
    "\n",
    "states_of_america[1] = \"pencilvania\"\n",
    "\n",
    "\n",
    "states_of_america.append(\"Chicago\")\n",
    "states_of_america.extend([\"NewYork\",\"Los Angeles\"])\n",
    "print(states_of_america)\n",
    "\n",
    "\n"
   ]
  },
  {
   "cell_type": "code",
   "execution_count": 16,
   "id": "6ea0470b",
   "metadata": {},
   "outputs": [
    {
     "name": "stdout",
     "output_type": "stream",
     "text": [
      "Create a seed number: 6767\n",
      "Give me everybody's names, separated by a comma. ksmiyh,kfjkf,kfjgkfm\n",
      "ksmiyh,kfjkf,kfjgkfm is going to buy the meal today!\n"
     ]
    }
   ],
   "source": [
    "#Exercise 2\n",
    "\n",
    "\"\"\"Instructions\n",
    "You are going to write a program that will select a random name from a list of names. The person selected will have to pay for everybody's food bill.\n",
    "\n",
    "Important: You are not allowed to use the choice() function.\n",
    "\n",
    "Line 8 splits the string names_string into individual names and puts them inside a List called names. For this to work, you must enter all the names as names followed by comma then space. e.g. name, name, name\n",
    "\n",
    "When you run the code, just use a random number as the seed. e.g. 67346 It doesn't matter what you chose, it's only for our testing code to check your work.\"\"\"\n",
    "\n",
    "\n",
    "# 🚨 Don't change the code below 👇\n",
    "import random\n",
    "test_seed = int(input(\"Create a seed number: \"))\n",
    "random.seed(test_seed)\n",
    "\n",
    "# Split string method\n",
    "names_string = input(\"Give me everybody's names, separated by a comma. \")\n",
    "names = names_string.split(\", \")\n",
    "# 🚨 Don't change the code above 👆\n",
    "\n",
    "#Write your code below this line 👇\n",
    "len_list = len(names) - 1\n",
    "\n",
    "random_number = random.randint(0, len_list)\n",
    "bill_payer = names[random_number]\n",
    "\n",
    "print(f\"{bill_payer} is going to buy the meal today!\")"
   ]
  },
  {
   "cell_type": "code",
   "execution_count": 18,
   "id": "1bf8b640",
   "metadata": {},
   "outputs": [
    {
     "name": "stdout",
     "output_type": "stream",
     "text": [
      "['⬜️', '⬜️', '⬜️']\n",
      "['⬜️', '⬜️', '⬜️']\n",
      "['⬜️', '⬜️', '⬜️']\n",
      "Where do you want to put the treasure? 23\n",
      "['⬜️', '⬜️', '⬜️']\n",
      "['⬜️', '⬜️', '⬜️']\n",
      "['⬜️', 'x', '⬜️']\n"
     ]
    }
   ],
   "source": [
    "#exercise 3\n",
    "\"\"\"Instructions\n",
    "You are going to write a program that will mark a spot with an X.\n",
    "\n",
    "In the starting code, you will find a variable called map.\n",
    "\n",
    "This map contains a nested list. When map is printed this is what the nested list looks like:\n",
    "\n",
    "['⬜️', '⬜️', '⬜️'],['⬜️', '⬜️', '⬜️'],['⬜️', '⬜️', '⬜️']\n",
    "\n",
    "In the starting code, we have used new lines (\\n) to format the three rows into a square, like this:\n",
    "\n",
    "['⬜️', '⬜️', '⬜️']\n",
    "\n",
    "['⬜️', '⬜️', '⬜️']\n",
    "\n",
    "['⬜️', '⬜️', '⬜️']\"\"\"\n",
    "\n",
    "\n",
    "# 🚨 Don't change the code below 👇\n",
    "row1 = [\"⬜️\",\"⬜️\",\"⬜️\"]\n",
    "row2 = [\"⬜️\",\"⬜️\",\"⬜️\"]\n",
    "row3 = [\"⬜️\",\"⬜️\",\"⬜️\"]\n",
    "map = [row1, row2, row3]\n",
    "print(f\"{row1}\\n{row2}\\n{row3}\")\n",
    "position = input(\"Where do you want to put the treasure? \")\n",
    "# 🚨 Don't change the code above 👆\n",
    "\n",
    "#Write your code below this row 👇\n",
    "row = int(str(position)[0]) - 1\n",
    "column = int(str(position)[1]) - 1\n",
    "\n",
    "map[column][row] = 'x'\n",
    "\n",
    "\n",
    "\n",
    "\n",
    "\n",
    "\n",
    "\n",
    "#Write your code above this row 👆\n",
    "\n",
    "# 🚨 Don't change the code below 👇\n",
    "print(f\"{row1}\\n{row2}\\n{row3}\")"
   ]
  },
  {
   "cell_type": "code",
   "execution_count": null,
   "id": "6b7cba90",
   "metadata": {},
   "outputs": [],
   "source": [
    "# Project\n",
    "rock = '''\n",
    "    _______\n",
    "---'   ____)\n",
    "      (_____)\n",
    "      (_____)\n",
    "      (____)\n",
    "---.__(___)\n",
    "'''\n",
    "\n",
    "paper = '''\n",
    "    _______\n",
    "---'   ____)____\n",
    "          ______)\n",
    "          _______)\n",
    "         _______)\n",
    "---.__________)\n",
    "'''\n",
    "\n",
    "scissors = '''\n",
    "    _______\n",
    "---'   ____)____\n",
    "          ______)\n",
    "       __________)\n",
    "      (____)\n",
    "---.__(___)\n",
    "'''\n",
    "\n",
    "#Write your code below this line 👇\n",
    "import random\n",
    "user = (input(\"rock or paper or scissors:\")).lower()\n",
    "rand_num = random.choice([\"rock\",\"scissors\",\"paper\"])\n",
    "\n",
    "if (user == \"rock\" and rand_num == \"rock\") or (user == \"paper\" and rand_num == \"paper\")\\\n",
    "or (user == \"scissors\" and rand_num == \"scissors\"):\n",
    "  print(\"Draw\")\n",
    "elif (user == \"rock\" and rand_num == \"paper\") or (user == \"paper\" and rand_num == \"scissors\") or (user == \"rock\" and rand_num == \"scissors\") :\n",
    "  print(f\"{rand_num} you have won.\")\n",
    "elif (rand_num == \"rock\" and user == \"paper\") or (rand_num == \"paper\" and user == \"scissors\") or (rand_num == \"rock\" and user == \"scissors\") :\n",
    "  print(f\"{rand_num} you lose!!\")\n",
    "\n",
    "\n",
    "\n",
    "\n"
   ]
  }
 ],
 "metadata": {
  "kernelspec": {
   "display_name": "Python 3 (ipykernel)",
   "language": "python",
   "name": "python3"
  },
  "language_info": {
   "codemirror_mode": {
    "name": "ipython",
    "version": 3
   },
   "file_extension": ".py",
   "mimetype": "text/x-python",
   "name": "python",
   "nbconvert_exporter": "python",
   "pygments_lexer": "ipython3",
   "version": "3.9.7"
  }
 },
 "nbformat": 4,
 "nbformat_minor": 5
}
