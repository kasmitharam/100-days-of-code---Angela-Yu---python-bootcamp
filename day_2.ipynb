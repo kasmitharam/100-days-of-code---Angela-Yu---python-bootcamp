{
 "cells": [
  {
   "cell_type": "code",
   "execution_count": 1,
   "id": "1dcf5f79",
   "metadata": {},
   "outputs": [
    {
     "name": "stdout",
     "output_type": "stream",
     "text": [
      "Type a two digit number: 39\n",
      "12\n"
     ]
    }
   ],
   "source": [
    "# Day 2\n",
    "# data types\n",
    "\n",
    "#Challenge 1\n",
    "\"\"\"Write a program that adds the digits in a 2 digit number. e.g. if the input was 35, then the output should be 3 + 5 = 8\n",
    "Warning. Do not change the code on lines 1-3. Your program should work for different inputs. e.g. any two-digit number.\"\"\"\n",
    "\n",
    "two_digit_number = input(\"Type a two digit number: \")\n",
    "# 🚨 Don't change the code above 👆\n",
    "\n",
    "####################################\n",
    "#Write your code below this line 👇\n",
    "print(int(two_digit_number[0]) + int(two_digit_number[1]))\n"
   ]
  },
  {
   "cell_type": "code",
   "execution_count": 3,
   "id": "5ba5bc03",
   "metadata": {},
   "outputs": [
    {
     "name": "stdout",
     "output_type": "stream",
     "text": [
      "enter your height in m: 1.75\n",
      "enter your weight in kg: 80\n",
      "26\n"
     ]
    }
   ],
   "source": [
    "#Challenge 2\n",
    "\"\"\"Instructions\n",
    "Write a program that calculates the Body Mass Index (BMI) from a user's weight and height.\n",
    "\n",
    "The BMI is a measure of some's weight taking into account their height. e.g. If a tall person and a short person both weigh the same amount, the short person is usually more overweight.\n",
    "\n",
    "The BMI is calculated by dividing a person's weight (in kg) by the square of their height (in m):\"\"\"\n",
    "\n",
    "\n",
    "# 🚨 Don't change the code below 👇\n",
    "height = input(\"enter your height in m: \")\n",
    "weight = input(\"enter your weight in kg: \")\n",
    "# 🚨 Don't change the code above 👆\n",
    "\n",
    "#Write your code below this line 👇\n",
    "BMI = int (int(weight) / (float(height) ** 2))\n",
    "print(BMI)\n"
   ]
  },
  {
   "cell_type": "code",
   "execution_count": 4,
   "id": "c0d815c6",
   "metadata": {},
   "outputs": [
    {
     "name": "stdout",
     "output_type": "stream",
     "text": [
      "What is your current age?23\n",
      "You have 24455 days, 3484 weeks, and 804 months left.\n"
     ]
    }
   ],
   "source": [
    "# Challenge 3\n",
    "\"\"\"Instructions\n",
    "I was reading this article by Tim Urban - Your Life in Weeks and realised just how little time we actually have.\n",
    "\n",
    "https://waitbutwhy.com/2014/05/life-weeks.html\n",
    "\n",
    "Create a program using maths and f-Strings that tells us how many days, weeks, months we have left if we live until 90 years old.\n",
    "\n",
    "It will take your current age as the input and output a message with our time left in this format:\n",
    "\n",
    "You have x days, y weeks, and z months left.\n",
    "\n",
    "Where x, y and z are replaced with the actual calculated numbers.\n",
    "\n",
    "Warning your output should match the Example Output format exactly, even the positions of the commas and full stops.\"\"\"\n",
    "\n",
    "\n",
    "# 🚨 Don't change the code below 👇\n",
    "age = int(input(\"What is your current age?\"))\n",
    "# 🚨 Don't change the code above 👆\n",
    "\n",
    "#Write your code below this line 👇\n",
    "\n",
    "days_left = (90 * 365) - (age * 365)\n",
    "weeks_left = (90 * 52) - (age * 52)\n",
    "months_left = (90 * 12) - (age * 12)\n",
    "\n",
    "print(f\"You have {days_left} days, {weeks_left} weeks, and {months_left} months left.\")\n"
   ]
  },
  {
   "cell_type": "code",
   "execution_count": 5,
   "id": "c55aed54",
   "metadata": {},
   "outputs": [
    {
     "name": "stdout",
     "output_type": "stream",
     "text": [
      "Welcome to the tip calculator!\n",
      "What was the total bill? 98\n",
      "How much tip would you like to give? 10, 12, or 15? 15\n",
      "How many people to split the bill? 4\n",
      "Each person should pay: 28.18\n"
     ]
    }
   ],
   "source": [
    "# Project for day 2\n",
    "# https://replit.com/@Kasmitha/tip-calculator-start-1#main.py\n",
    "#If the bill was $150.00, split between 5 people, with 12% tip. \n",
    "\n",
    "#Each person should pay (150.00 / 5) * 1.12 = 33.6\n",
    "#Format the result to 2 decimal places = 33.60\n",
    "\n",
    "#Tip: There are 2 ways to round a number. You might have to do some Googling to solve this.💪\n",
    "\n",
    "#Write your code below this line 👇\n",
    "\n",
    "print(\"Welcome to the tip calculator!\")\n",
    "bill = float(input(\"What was the total bill? \"))\n",
    "tips_percent = int(input(\"How much tip would you like to give? 10, 12, or 15? \"))\n",
    "no_of_peop = int(input(\"How many people to split the bill? \"))\n",
    "\n",
    "tips = (bill * tips_percent)/ 100\n",
    "total_bill = bill + tips\n",
    "share = round((total_bill/no_of_peop),2)\n",
    "\n",
    "print(f\"Each person should pay: {share}\")"
   ]
  },
  {
   "cell_type": "code",
   "execution_count": null,
   "id": "7d35db1f",
   "metadata": {},
   "outputs": [],
   "source": []
  }
 ],
 "metadata": {
  "kernelspec": {
   "display_name": "Python 3 (ipykernel)",
   "language": "python",
   "name": "python3"
  },
  "language_info": {
   "codemirror_mode": {
    "name": "ipython",
    "version": 3
   },
   "file_extension": ".py",
   "mimetype": "text/x-python",
   "name": "python",
   "nbconvert_exporter": "python",
   "pygments_lexer": "ipython3",
   "version": "3.9.7"
  }
 },
 "nbformat": 4,
 "nbformat_minor": 5
}
